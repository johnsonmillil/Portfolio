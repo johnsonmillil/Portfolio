import numpy as np
import pandas as pd
import matplotlib.pyplot as plt
import seaborn as sns
from sklearn.model_selection import train_test_split
from sklearn.preprocessing import LabelEncoder
from tensorflow.keras.preprocessing.image import ImageDataGenerator
from tensorflow.keras.models import Sequential
from tensorflow.keras.layers import Conv2D, MaxPooling2D, Flatten, Dense, Dropout
from tensorflow.keras.utils import to_categorical
from tensorflow.keras.callbacks import EarlyStopping
from sklearn.metrics import confusion_matrix, classification_report

# Load dataset
images = np.load("images.npy")
labels = pd.read_csv("labels.csv")
class_names = labels['label'].unique()

# B1a: Class distribution
plt.figure(figsize=(12, 6))
sns.countplot(x=labels['label'], order=class_names)
plt.title('Distribution of Plant Seedling Classes')
plt.xlabel('Class')
plt.ylabel('Count')
plt.xticks(rotation=45)
plt.savefig('class_distribution.png')
plt.show()

# B1b: Sample images
plt.figure(figsize=(15, 10))
for i, label in enumerate(class_names[:9]):
    idx = labels[labels['label'] == label].index[0]
    plt.subplot(3, 3, i+1)
    plt.imshow(images[idx])
    plt.title(label)
    plt.axis('off')
plt.savefig('sample_images.png')
plt.show()

# B2-B3: Data preparation
images = images.astype('float32') / 255.0
X_train, X_temp, y_train, y_temp = train_test_split(images, labels['label'], test_size=0.3, random_state=42)
X_val, X_test, y_val, y_test = train_test_split(X_temp, y_temp, test_size=0.5, random_state=42)
label_encoder = LabelEncoder()
y_train_encoded = to_categorical(label_encoder.fit_transform(y_train))
y_val_encoded = to_categorical(label_encoder.transform(y_val))
y_test_encoded = to_categorical(label_encoder.transform(y_test))
datagen = ImageDataGenerator(rotation_range=20, horizontal_flip=True, zoom_range=0.1, shear_range=0.1)
datagen.fit(X_train)

# B6: Save datasets
np.save('X_train.npy', X_train)
np.save('y_train_encoded.npy', y_train_encoded)
np.save('X_val.npy', X_val)
np.save('y_val_encoded.npy', y_val_encoded)
np.save('X_test.npy', X_test)
np.save('y_test_encoded.npy', y_test_encoded)

# E1-E3: Build and train model
model = Sequential([
    Conv2D(32, (3, 3), activation='relu', input_shape=(128, 128, 3)),
    MaxPooling2D((2, 2)),
    Conv2D(64, (3, 3), activation='relu'),
    MaxPooling2D((2, 2)),
    Conv2D(128, (3, 3), activation='relu'),
    MaxPooling2D((2, 2)),
    Flatten(),
    Dense(128, activation='relu'),
    Dropout(0.5),
    Dense(12, activation='softmax')
])
model.compile(optimizer='adam', loss='categorical_crossentropy', metrics=['accuracy'])
model.summary()
fig = model.summary(print_fn=lambda x: plt.text(0.1, 0.1, x, transform=plt.gcf().transFigure))
plt.savefig('model_summary.png')
plt.close()
early_stopping = EarlyStopping(monitor='val_loss', patience=5, restore_best_weights=True)
history = model.fit(datagen.flow(X_train, y_train_encoded, batch_size=32),
                    validation_data=(X_val, y_val_encoded),
                    epochs=50, callbacks=[early_stopping])

# E4, F1c, F1b: Evaluate model
y_pred = model.predict(X_test)
y_pred_classes = np.argmax(y_pred, axis=1)
y_true_classes = np.argmax(y_test_encoded, axis=1)
cm = confusion_matrix(y_true_classes, y_pred_classes)
plt.figure(figsize=(12, 10))
sns.heatmap(cm, annot=True, fmt='d', xticklabels=class_names, yticklabels=class_names)
plt.title('Confusion Matrix')
plt.xlabel('Predicted')
plt.ylabel('True')
plt.savefig('confusion_matrix.png')
plt.show()
print(classification_report(y_true_classes, y_pred_classes, target_names=class_names))
fig = plt.figure(figsize=(10, 6))
plt.text(0.1, 0.1, classification_report(y_true_classes, y_pred_classes, target_names=class_names), transform=plt.gcf().transFigure)
plt.savefig('classification_report.png')
plt.close()
plt.figure(figsize=(10, 6))
plt.plot(history.history['loss'], label='Training Loss')
plt.plot(history.history['val_loss'], label='Validation Loss')
plt.title('Training vs. Validation Loss')
plt.xlabel('Epoch')
plt.ylabel('Loss')
plt.legend()
plt.savefig('loss_plot.png')
plt.show()

# G1: Save model
model.save('plant_seedling_cnn.h5')


pip install tensorflow.keras



