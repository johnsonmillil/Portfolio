{
 "cells": [
  {
   "cell_type": "code",
   "execution_count": null,
   "id": "df35c32d-c98a-48f6-83a7-2a596fa199cc",
   "metadata": {},
   "outputs": [],
   "source": [
    "# Import necessary libraries\n",
    "import numpy as np\n",
    "import pandas as pd\n",
    "import matplotlib.pyplot as plt\n",
    "import seaborn as sns\n",
    "from sklearn.model_selection import train_test_split\n",
    "from sklearn.preprocessing import LabelEncoder\n",
    "from tensorflow.keras.models import Sequential\n",
    "from tensorflow.keras.layers import Input, Conv2D, MaxPooling2D, Flatten, Dense, Dropout\n",
    "from tensorflow.keras.utils import to_categorical\n",
    "from tensorflow.keras.callbacks import EarlyStopping\n",
    "from sklearn.metrics import confusion_matrix, classification_report\n",
    "import tensorflow as tf"
   ]
  },
  {
   "cell_type": "code",
   "execution_count": null,
   "id": "afe23b82-0ca4-4046-bb44-772aa41500d3",
   "metadata": {},
   "outputs": [],
   "source": [
    "# Load data\n",
    "images = np.load(\"images.npy\")\n",
    "labels = pd.read_csv(\"labels.csv\")\n",
    "class_names = labels['Label'].unique()"
   ]
  },
  {
   "cell_type": "code",
   "execution_count": null,
   "id": "877a401e-6c99-4293-bc1d-d0e5eff039eb",
   "metadata": {},
   "outputs": [],
   "source": [
    "# Visualize class distribution\n",
    "plt.figure(figsize=(12, 6))\n",
    "sns.countplot(x=labels['Label'], order=class_names)\n",
    "plt.title('Distribution of Plant Seedling Classes')\n",
    "plt.xlabel('Class')\n",
    "plt.ylabel('Count')\n",
    "plt.xticks(rotation=45)\n",
    "plt.savefig('class_distribution.png')\n",
    "plt.show()"
   ]
  },
  {
   "cell_type": "code",
   "execution_count": null,
   "id": "57cffc1f-49a2-4590-bb36-dd5caaaa3483",
   "metadata": {},
   "outputs": [],
   "source": [
    "# Visualize sample images (all 12 classes)\n",
    "plt.figure(figsize=(16, 12))\n",
    "for i, label in enumerate(class_names):\n",
    "    idx = labels[labels['Label'] == label].index[0]\n",
    "    plt.subplot(4, 3, i+1)\n",
    "    plt.imshow(images[idx])\n",
    "    plt.title(label)\n",
    "    plt.axis('off')\n",
    "plt.savefig('sample_images.png')\n",
    "plt.show()"
   ]
  },
  {
   "cell_type": "code",
   "execution_count": null,
   "id": "45ab71bb-0c24-414c-8800-69bdb6ac7779",
   "metadata": {},
   "outputs": [],
   "source": [
    "# Downsample images to 64x64 and convert to float16\n",
    "images_resized = tf.image.resize(images, [64, 64]).numpy()\n",
    "images_resized = images_resized.astype('float16') / 255.0\n",
    "\n",
    "# Split data\n",
    "X_train, X_temp, y_train, y_temp = train_test_split(images_resized, labels['Label'], test_size=0.3, random_state=42)\n",
    "X_val, X_test, y_val, y_test = train_test_split(X_temp, y_temp, test_size=0.5, random_state=42)\n",
    "\n",
    "# Encode labels\n",
    "label_encoder = LabelEncoder()\n",
    "y_train_encoded = to_categorical(label_encoder.fit_transform(y_train))\n",
    "y_val_encoded = to_categorical(label_encoder.transform(y_val))\n",
    "y_test_encoded = to_categorical(label_encoder.transform(y_test))"
   ]
  },
  {
   "cell_type": "code",
   "execution_count": null,
   "id": "a82d47f1-2f06-4d83-a8fa-44142a86c87f",
   "metadata": {},
   "outputs": [],
   "source": [
    "# Create tf.data.Dataset\n",
    "train_dataset = tf.data.Dataset.from_tensor_slices((X_train, y_train_encoded)).batch(32).prefetch(tf.data.AUTOTUNE)\n",
    "val_dataset = tf.data.Dataset.from_tensor_slices((X_val, y_val_encoded)).batch(32).prefetch(tf.data.AUTOTUNE)"
   ]
  },
  {
   "cell_type": "code",
   "execution_count": null,
   "id": "a48c3686-cf18-4b82-befc-a758172b917e",
   "metadata": {},
   "outputs": [],
   "source": [
    "# Save datasets\n",
    "np.save('X_train.npy', X_train)\n",
    "np.save('y_train_encoded.npy', y_train_encoded)\n",
    "np.save('X_val.npy', X_val)\n",
    "np.save('y_val_encoded.npy', y_val_encoded)\n",
    "np.save('X_test.npy', X_test)\n",
    "np.save('y_test_encoded.npy', y_test_encoded)"
   ]
  },
  {
   "cell_type": "code",
   "execution_count": null,
   "id": "3befa8ee-085f-4741-8994-fccc911b3b40",
   "metadata": {},
   "outputs": [],
   "source": [
    "# Build and compile model\n",
    "model = Sequential([\n",
    "    Input(shape=(64, 64, 3)),\n",
    "    Conv2D(32, (3, 3), activation='relu'),\n",
    "    MaxPooling2D((2, 2)),\n",
    "    Conv2D(64, (3, 3), activation='relu'),\n",
    "    MaxPooling2D((2, 2)),\n",
    "    Conv2D(128, (3, 3), activation='relu'),\n",
    "    MaxPooling2D((2, 2)),\n",
    "    Flatten(),\n",
    "    Dense(128, activation='relu'),\n",
    "    Dropout(0.5),\n",
    "    Dense(12, activation='softmax')\n",
    "])\n",
    "model.compile(optimizer='adam', loss='categorical_crossentropy', metrics=['accuracy'])"
   ]
  },
  {
   "cell_type": "code",
   "execution_count": null,
   "id": "4467aca5-edc5-4e6c-911b-e04174879218",
   "metadata": {},
   "outputs": [],
   "source": [
    "# Generate and save model summary\n",
    "model.summary()\n",
    "with open('model_summary.txt', 'w', encoding='utf-8') as f:\n",
    "    model.summary(print_fn=lambda x: f.write(x + '\\n'))\n",
    "# Take screenshot of model.summary() output from notebook for model_summary.png"
   ]
  },
  {
   "cell_type": "code",
   "execution_count": null,
   "id": "f6f8f3a5-6fca-4a84-a27f-97c6064b0441",
   "metadata": {},
   "outputs": [],
   "source": [
    "# Define early stopping\n",
    "early_stopping = EarlyStopping(monitor='val_loss', patience=5, restore_best_weights=True)\n",
    "\n",
    "# Train model\n",
    "history = model.fit(train_dataset,\n",
    "                    validation_data=val_dataset,\n",
    "                    epochs=50,\n",
    "                    callbacks=[early_stopping])"
   ]
  },
  {
   "cell_type": "code",
   "execution_count": null,
   "id": "8b628b83-2f2a-4e26-9778-90dfd863a5dd",
   "metadata": {},
   "outputs": [],
   "source": [
    "# Evaluate model\n",
    "test_loss, test_accuracy = model.evaluate(X_test, y_test_encoded)\n",
    "print(f\"Test accuracy: {test_accuracy}\")"
   ]
  },
  {
   "cell_type": "code",
   "execution_count": null,
   "id": "fc557794-6c53-4669-87ed-92c6e5dcc668",
   "metadata": {},
   "outputs": [],
   "source": [
    "# Generate and save confusion matrix\n",
    "y_pred = model.predict(X_test)\n",
    "y_pred_classes = np.argmax(y_pred, axis=1)\n",
    "y_true_classes = np.argmax(y_test_encoded, axis=1)\n",
    "cm = confusion_matrix(y_true_classes, y_pred_classes)\n",
    "plt.figure(figsize=(12, 10))\n",
    "sns.heatmap(cm, annot=True, fmt='d', xticklabels=class_names, yticklabels=class_names)\n",
    "plt.title('Confusion Matrix')\n",
    "plt.xlabel('Predicted')\n",
    "plt.ylabel('True')\n",
    "plt.savefig('confusion_matrix.png')\n",
    "plt.show()"
   ]
  },
  {
   "cell_type": "code",
   "execution_count": null,
   "id": "d28141c5-27be-4b9f-9ead-20ae3c5ee31f",
   "metadata": {},
   "outputs": [],
   "source": [
    "# Generate and save classification report\n",
    "report = classification_report(y_true_classes, y_pred_classes, target_names=class_names)\n",
    "with open('classification_report.txt', 'w', encoding='utf-8') as f:\n",
    "    f.write(report)\n",
    "print(report)  # Screenshot this output for classification_report.png"
   ]
  },
  {
   "cell_type": "code",
   "execution_count": null,
   "id": "431ef6be-f575-4f5d-8fbf-1589c41313fc",
   "metadata": {},
   "outputs": [],
   "source": [
    "# Generate and save loss plot\n",
    "plt.figure(figsize=(10, 6))\n",
    "plt.plot(history.history['loss'], label='Training Loss')\n",
    "plt.plot(history.history['val_loss'], label='Validation Loss')\n",
    "plt.title('Training vs. Validation Loss')\n",
    "plt.xlabel('Epoch')\n",
    "plt.ylabel('Loss')\n",
    "plt.legend()\n",
    "plt.savefig('loss_plot.png')\n",
    "plt.show()"
   ]
  },
  {
   "cell_type": "code",
   "execution_count": null,
   "id": "1b484b44-cad7-4bb6-80d5-e020b3849352",
   "metadata": {},
   "outputs": [],
   "source": [
    "# Save model\n",
    "model.save('plant_seedling_cnn.keras')"
   ]
  }
 ],
 "metadata": {
  "kernelspec": {
   "display_name": "Python 3 (ipykernel)",
   "language": "python",
   "name": "python3"
  },
  "language_info": {
   "codemirror_mode": {
    "name": "ipython",
    "version": 3
   },
   "file_extension": ".py",
   "mimetype": "text/x-python",
   "name": "python",
   "nbconvert_exporter": "python",
   "pygments_lexer": "ipython3",
   "version": "3.12.7"
  }
 },
 "nbformat": 4,
 "nbformat_minor": 5
}
